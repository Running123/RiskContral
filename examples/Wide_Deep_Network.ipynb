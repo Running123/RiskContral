{
 "cells": [
  {
   "cell_type": "code",
   "execution_count": 9,
   "metadata": {
    "collapsed": true
   },
   "outputs": [],
   "source": [
    "import numpy as np\n",
    "import pandas as pd\n",
    "from sklearn.datasets import load_digits\n",
    "from keras.utils import to_categorical\n",
    "\n",
    "from matplotlib import pyplot as plt\n",
    "import tensorflow as tf\n",
    "\n",
    "%matplotlib inline"
   ]
  },
  {
   "cell_type": "code",
   "execution_count": 10,
   "metadata": {
    "collapsed": true
   },
   "outputs": [],
   "source": [
    "data = load_digits()"
   ]
  },
  {
   "cell_type": "code",
   "execution_count": 51,
   "metadata": {
    "collapsed": false
   },
   "outputs": [
    {
     "name": "stdout",
     "output_type": "stream",
     "text": [
      "((1797, 64), (1797, 10), (1797, 8, 8))\n",
      "------------------------------\n",
      "('Loss : ', 1614.7441)\n",
      "('Accuracy : ', 0.88035613)\n",
      "------------------------------\n",
      "('Loss : ', 761.20874)\n",
      "('Accuracy : ', 0.835281)\n",
      "------------------------------\n",
      "('Loss : ', 423.7279)\n",
      "('Accuracy : ', 0.9248748)\n",
      "------------------------------\n",
      "('Loss : ', 308.53308)\n",
      "('Accuracy : ', 0.9410128)\n",
      "------------------------------\n",
      "('Loss : ', 253.18704)\n",
      "('Accuracy : ', 0.9465776)\n",
      "------------------------------\n",
      "('Loss : ', 219.77286)\n",
      "('Accuracy : ', 0.950473)\n",
      "------------------------------\n",
      "('Loss : ', 196.95953)\n",
      "('Accuracy : ', 0.9538119)\n",
      "------------------------------\n",
      "('Loss : ', 180.19398)\n",
      "('Accuracy : ', 0.95937675)\n",
      "------------------------------\n",
      "('Loss : ', 167.24481)\n",
      "('Accuracy : ', 0.9627156)\n",
      "------------------------------\n",
      "('Loss : ', 156.87207)\n",
      "('Accuracy : ', 0.96494156)\n",
      "------------------------------\n"
     ]
    }
   ],
   "source": [
    "X_data = data.data/16\n",
    "y_data = to_categorical(data.target)\n",
    "images = data.images\n",
    "print(X.shape,y_data.shape,images.shape)\n",
    "\n",
    "x = tf.placeholder(dtype=tf.float32,shape=(None,64))\n",
    "y = tf.placeholder(dtype=tf.float32,shape=(None,10))\n",
    "w = tf.Variable(tf.zeros([64,10]),dtype=tf.float32)\n",
    "b = tf.Variable(tf.zeros([10]),dtype=tf.float32)\n",
    "\n",
    "z = tf.matmul(x,w)\n",
    "y_value = tf.matmul(x,w)+b\n",
    "y_ = tf.nn.softmax(y_value)\n",
    "\n",
    "loss = tf.reduce_sum(tf.square(y_ - y))\n",
    "train_op = tf.train.GradientDescentOptimizer(0.0001).minimize(loss)\n",
    "\n",
    "correct_prediction = tf.equal(tf.argmax(y_,1), tf.argmax(y,1))\n",
    "accuracy = tf.reduce_mean(tf.cast(correct_prediction, \"float\"))\n",
    "\n",
    "init = tf.global_variables_initializer()\n",
    "with tf.Session() as sess:\n",
    "    sess.run(init)\n",
    "    print('-'*30)\n",
    "    for step in range(2000):\n",
    "        sess.run(train_op,feed_dict={x:X_data,y:y_data})\n",
    "        if step%200 == 0 :\n",
    "            print(\"Loss : \",sess.run(loss,feed_dict={x:X_data,y:y_data}))\n",
    "            print('Accuracy : ',sess.run(accuracy, feed_dict={x:X_data,y:y_data}))\n",
    "            print('-'*30)\n",
    "            #print(sess.run(b))\n",
    "    #print(sess.run(w))"
   ]
  },
  {
   "cell_type": "code",
   "execution_count": 6,
   "metadata": {
    "collapsed": false
   },
   "outputs": [
    {
     "data": {
      "image/png": "[encoded data removed]",
      "text/plain": [
       "<matplotlib.figure.Figure at 0x124c125d0>"
      ]
     },
     "metadata": {},
     "output_type": "display_data"
    }
   ],
   "source": [
    "#使用numpy生成200个随机点\n",
    "x_data = np.linspace(-0.5,0.5,200)[:,np.newaxis]\n",
    "noise = np.random.normal(0,0.02,x_data.shape)\n",
    "y_data = np.square(x_data) + noise\n",
    "#定义两个placeholder\n",
    "x = tf.placeholder(tf.float32,[None,1])\n",
    "y = tf.placeholder(tf.float32,[None,1])\n",
    "#定义神经网络中间层#1 代表输入值，10 代表10个神经元\n",
    "Weights_L1 = tf.Variable(tf.random_normal([1,10]))\n",
    "biases_L1 = tf.Variable(tf.zeros([1,10]))\n",
    "# 信号总和\n",
    "Wx_plus_b_L1 = tf.matmul(x,Weights_L1) + biases_L1\n",
    "# tanh双曲正切函数：将实数映射到[-1,1] \n",
    "L1 = tf.nn.tanh(Wx_plus_b_L1)\n",
    "#定义神经网络输出层#10 代表10个神经元，1 代表1个输出层\n",
    "Weights_L2 = tf.Variable(tf.random_normal([10,1]))\n",
    "biases_L2 = tf.Variable(tf.zeros([1,1]))\n",
    "Wx_plus_b_L2 = tf.matmul(L1,Weights_L2) + biases_L2\n",
    "prediction = tf.nn.tanh(Wx_plus_b_L2)\n",
    "#二次代价函数\n",
    "loss = tf.reduce_mean(tf.square(y-prediction))\n",
    "#使用梯度下降法训练\n",
    "train_step = tf.train.GradientDescentOptimizer(0.1).minimize(loss)\n",
    "with tf.Session() as sess: \n",
    "    #变量初始化 \n",
    "    sess.run(tf.global_variables_initializer()) \n",
    "    for _ in range(2000): \n",
    "        sess.run(train_step,feed_dict={x:x_data,y:y_data})\n",
    "        #获得预测值 \n",
    "        prediction_value = sess.run(prediction,feed_dict={x:x_data}) \n",
    "        #画图 \n",
    "plt.figure()\n",
    "plt.scatter(x_data,y_data) \n",
    "    # 'r-' 红色实线，lw 线宽为5 \n",
    "plt.plot(x_data,prediction_value,'r-',lw=5) \n",
    "plt.show()"
   ]
  },
  {
   "cell_type": "code",
   "execution_count": 8,
   "metadata": {
    "collapsed": false
   },
   "outputs": [
    {
     "name": "stdout",
     "output_type": "stream",
     "text": [
      "((2, 100), (100,))\n",
      "0 [[0.40665066 0.06274813]] [0.4504812]\n",
      "20 [[0.14165832 0.1519424 ]] [0.30388883]\n",
      "40 [[0.10698013 0.18863961]] [0.30239484]\n",
      "60 [[0.10091527 0.19706191]] [0.30107737]\n",
      "80 [[0.10000866 0.19916174]] [0.3004373]\n",
      "100 [[0.09993774 0.19973859]] [0.3001698]\n",
      "120 [[0.09996397 0.19991279]] [0.3000645]\n",
      "140 [[0.09998406 0.19996956]] [0.30002424]\n",
      "160 [[0.09999356 0.19998908]] [0.30000907]\n",
      "180 [[0.09999751 0.19999604]] [0.30000338]\n",
      "200 [[0.09999906 0.19999857]] [0.30000123]\n"
     ]
    }
   ],
   "source": [
    "import tensorflow as tf\n",
    "import numpy as np\n",
    "\n",
    "# 使用 NumPy 生成假数据(phony data), 总共 100 个点.\n",
    "x_data = np.float32(np.random.rand(2, 100)) # 随机输入\n",
    "y_data = np.dot([0.100, 0.200], x_data) + 0.300\n",
    "print(x_data.shape,y_data.shape)\n",
    "# 构造一个线性模型\n",
    "# \n",
    "b = tf.Variable(tf.zeros([1]))\n",
    "W = tf.Variable(tf.random_uniform([1, 2], -1.0, 1.0))\n",
    "y = tf.matmul(W, x_data) + b\n",
    "\n",
    "# 最小化方差\n",
    "loss = tf.reduce_mean(tf.square(y - y_data))\n",
    "optimizer = tf.train.GradientDescentOptimizer(0.5)\n",
    "train = optimizer.minimize(loss)\n",
    "\n",
    "# 初始化变量\n",
    "init = tf.initialize_all_variables()\n",
    "\n",
    "# 启动图 (graph)\n",
    "sess = tf.Session()\n",
    "sess.run(init)\n",
    "\n",
    "# 拟合平面\n",
    "for step in xrange(0, 201):\n",
    "    sess.run(train)\n",
    "    if step % 20 == 0:\n",
    "        print step, sess.run(W), sess.run(b)\n",
    "\n"
   ]
  },
  {
   "cell_type": "code",
   "execution_count": null,
   "metadata": {
    "collapsed": true
   },
   "outputs": [],
   "source": []
  }
 ],
 "metadata": {
  "kernelspec": {
   "display_name": "Python 2",
   "language": "python",
   "name": "python2"
  },
  "language_info": {
   "codemirror_mode": {
    "name": "ipython",
    "version": 2
   },
   "file_extension": ".py",
   "mimetype": "text/x-python",
   "name": "python",
   "nbconvert_exporter": "python",
   "pygments_lexer": "ipython2",
   "version": "2.7.13"
  }
 },
 "nbformat": 4,
 "nbformat_minor": 2
}
